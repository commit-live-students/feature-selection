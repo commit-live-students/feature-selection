{
 "cells": [
  {
   "cell_type": "markdown",
   "metadata": {
    "collapsed": true
   },
   "source": [
    "<div id=\"toc\"> </div>"
   ]
  },
  {
   "cell_type": "markdown",
   "metadata": {},
   "source": [
    "# What is Feature Selection?\n",
    "\n",
    "* **Feature Selection**: Selecting best subset of given features which is most suitable for the work at hand\n",
    "    - We may have thousands of features but not enough computational powe, so we may need to reduce the number of features to a managable size\n",
    "    - We may want to acheive higher genaralization ability (and reduce overfitting) from our model, so we may need to remove those variables which add very little predictive power\n",
    "    - We'll almost always need to gain a better understanding of the features and their relationship to the response variable\n",
    "        * We almost always will want to remove features without enough predictive power\n",
    "* One of the key focus in Machine Learning is learning the most predictive **feature representation**\n",
    "    - For a given representation of data, the difference between learning algorithms may not amount to much\n",
    "    - Quite often, this is what data scientists are talking about when they talk about machine learning as an art\n",
    "\n",
    "Note: In the following discussions, we'll use a regression dataset for demonstrations, but the discussions and examples are equally applicable for classification as well."
   ]
  },
  {
   "cell_type": "markdown",
   "metadata": {},
   "source": [
    "# Univariate Feature Selection\n",
    "\n",
    "* Univariate feature selection methods examine\n",
    "    - the predictive power of individual features\n",
    "    - the strength of the relationship of the feature with the response variable\n",
    "* These methods are simple to run and understand\n",
    "* These methods are good for gaining a better understanding of data, and can often be the starting point for feature selection\n",
    "* These methods are not necessarily good for optimizing the feature set for better generalization"
   ]
  },
  {
   "cell_type": "markdown",
   "metadata": {},
   "source": [
    "## Removing features with low variance"
   ]
  },
  {
   "cell_type": "markdown",
   "metadata": {},
   "source": [
    "* We want to remove all features whose variance doesn’t meet some threshold\n",
    "* For example, we should remove all zero-variance features, i.e. features that have the same value in all samples\n",
    "* As an example, suppose that we have a dataset with boolean features, and we want to remove all features that are either one or zero (on or off) in more than 90% of the samples\n",
    "* Boolean features are Bernoulli random variables, and the variance of such variables is given by $Var[x] = p(1-p)$"
   ]
  },
  {
   "cell_type": "code",
   "execution_count": 9,
   "metadata": {
    "collapsed": false
   },
   "outputs": [
    {
     "data": {
      "text/plain": [
       "array([[0, 0, 1],\n",
       "       [0, 1, 0],\n",
       "       [1, 0, 0],\n",
       "       [0, 1, 1],\n",
       "       [0, 1, 0],\n",
       "       [0, 1, 1]])"
      ]
     },
     "execution_count": 9,
     "metadata": {},
     "output_type": "execute_result"
    }
   ],
   "source": [
    "import numpy as np\n",
    "from sklearn.feature_selection import VarianceThreshold\n",
    "\n",
    "X = np.array([[0, 0, 1], [0, 1, 0], [1, 0, 0], [0, 1, 1], [0, 1, 0], [0, 1, 1]])\n",
    "X"
   ]
  },
  {
   "cell_type": "code",
   "execution_count": 10,
   "metadata": {
    "collapsed": false
   },
   "outputs": [
    {
     "data": {
      "text/plain": [
       "array([[0, 1],\n",
       "       [1, 0],\n",
       "       [0, 0],\n",
       "       [1, 1],\n",
       "       [1, 0],\n",
       "       [1, 1]])"
      ]
     },
     "execution_count": 10,
     "metadata": {},
     "output_type": "execute_result"
    }
   ],
   "source": [
    "sel = VarianceThreshold(threshold=(.8 * (1 - .8)))\n",
    "sel.fit_transform(X)"
   ]
  },
  {
   "cell_type": "markdown",
   "metadata": {},
   "source": [
    "As expected, the first column is gone."
   ]
  },
  {
   "cell_type": "markdown",
   "metadata": {},
   "source": [
    "## Pearson Correlation\n",
    "\n",
    "* One of the simplest method for understanding a feature’s relation to the response variable is Pearson correlation coefficient, which measures linear correlation between two variables.\n",
    "* Scipy‘s pearsonr method computes both the correlation and p-value for the correlation, roughly showing the probability of an uncorrelated system creating a correlation value of this magnitude."
   ]
  },
  {
   "cell_type": "code",
   "execution_count": 1,
   "metadata": {
    "collapsed": false
   },
   "outputs": [
    {
     "name": "stdout",
     "output_type": "stream",
     "text": [
      "Lower noise (0.71824836862138408, 7.3240173129983507e-49)\n",
      "Higher noise (0.057964292079338155, 0.31700993885324752)\n"
     ]
    }
   ],
   "source": [
    "import numpy as np\n",
    "from scipy.stats import pearsonr\n",
    "np.random.seed(0)\n",
    "size = 300\n",
    "\n",
    "x = np.random.normal(0, 1, size)\n",
    "print(\"Lower noise\", pearsonr(x, x + np.random.normal(0, 1, size)))\n",
    "print(\"Higher noise\", pearsonr(x, x + np.random.normal(0, 10, size)))"
   ]
  },
  {
   "cell_type": "markdown",
   "metadata": {},
   "source": [
    "* In the example above, we compare a variable with a noisy version of itself.\n",
    "* With smaller amount of noise, the correlation is relatively strong, with a very low p-value, while for the noisy comparison, the correlation is very small and furthermore, the p-value is high meaning that it is very likely to observe such correlation on a dataset of this size purely by chance."
   ]
  },
  {
   "cell_type": "markdown",
   "metadata": {},
   "source": [
    "* One obvious drawback of Pearson correlation as a feature ranking mechanism is that it is only sensitive to a linear relationship.\n",
    "* [If the relation is non-linear, Pearson correlation can be close to zero even if there is a 1-1 correspondence between the two variables](https://en.wikipedia.org/wiki/Anscombe%27s_quartet).\n",
    "* For example, correlation between x and x2 is zero, when x is centered on 0."
   ]
  },
  {
   "cell_type": "code",
   "execution_count": 1,
   "metadata": {
    "collapsed": false
   },
   "outputs": [
    {
     "ename": "NameError",
     "evalue": "name 'np' is not defined",
     "output_type": "error",
     "traceback": [
      "\u001b[0;31m---------------------------------------------------------------------------\u001b[0m",
      "\u001b[0;31mNameError\u001b[0m                                 Traceback (most recent call last)",
      "\u001b[0;32m<ipython-input-1-735701904635>\u001b[0m in \u001b[0;36m<module>\u001b[0;34m()\u001b[0m\n\u001b[0;32m----> 1\u001b[0;31m \u001b[0mx\u001b[0m \u001b[0;34m=\u001b[0m \u001b[0mnp\u001b[0m\u001b[0;34m.\u001b[0m\u001b[0mrandom\u001b[0m\u001b[0;34m.\u001b[0m\u001b[0muniform\u001b[0m\u001b[0;34m(\u001b[0m\u001b[0;34m-\u001b[0m\u001b[0;36m1\u001b[0m\u001b[0;34m,\u001b[0m \u001b[0;36m1\u001b[0m\u001b[0;34m,\u001b[0m \u001b[0;36m100000\u001b[0m\u001b[0;34m)\u001b[0m\u001b[0;34m\u001b[0m\u001b[0m\n\u001b[0m\u001b[1;32m      2\u001b[0m \u001b[0mprint\u001b[0m\u001b[0;34m(\u001b[0m\u001b[0mpearsonr\u001b[0m\u001b[0;34m(\u001b[0m\u001b[0mx\u001b[0m\u001b[0;34m,\u001b[0m \u001b[0mx\u001b[0m\u001b[0;34m**\u001b[0m\u001b[0;36m2\u001b[0m\u001b[0;34m)\u001b[0m\u001b[0;34m[\u001b[0m\u001b[0;36m0\u001b[0m\u001b[0;34m]\u001b[0m\u001b[0;34m)\u001b[0m\u001b[0;34m\u001b[0m\u001b[0m\n",
      "\u001b[0;31mNameError\u001b[0m: name 'np' is not defined"
     ]
    }
   ],
   "source": [
    "x = np.random.uniform(-1, 1, 100000)\n",
    "print(pearsonr(x, x**2)[0])"
   ]
  },
  {
   "cell_type": "markdown",
   "metadata": {},
   "source": [
    "## Deeper into Correlation"
   ]
  },
  {
   "cell_type": "markdown",
   "metadata": {},
   "source": [
    "### Definition\n",
    "\n",
    "The population correlation coefficient $ρ_{X,Y}$ between two random variables $X$ and $Y$ with expected values $μ_X$ and $μ_Y$ and standard deviations $σ_X$ and $σ_Y$ is defined as:\n",
    "\n",
    "![](./images/correlation3.png)\n",
    "\n",
    "where E is the expected value operator, cov means covariance, and corr is a widely used alternative notation for the correlation coefficient.\n",
    "\n",
    "If we have a series of $n$ measurements of $X$ and $Y$ written as $x_i$ and $y_i$ for $i$ = $1$, $2$, ..., $n$, then the sample correlation coefficient can be used to estimate the population Pearson correlation $r$ between $X$ and $Y$. The sample correlation coefficient is written:\n",
    "\n",
    "![](./images/correlation9.png)\n",
    "\n",
    "* Pearson correlation is the ratio of co-variance of two variables to a product of variance (of the variables)\n",
    "* The correlation coefficient has values between -1 to 1\n",
    "* A value closer to 0 implies weaker correlation (exact 0 implying no correlation)\n",
    "* A value closer to 1 implies stronger positive correlation\n",
    "* A value closer to -1 implies stronger negative correlation\n",
    "* Pearson's correlation coefficient capture only the linear relationship between the two variables. A value of 0 doesn't imply the absence of a relationship\n",
    "\n",
    "### Correlation is not Transitive\n",
    "\n",
    "* Let $X$, $Y$ and $Z$ be random variables.\n",
    "* $ρ_{X,Y} > 0.8$\n",
    "* $ρ_{Y,Z} > 0.7$\n",
    "* Can we say $ρ_{X,Z}$ will be strongly positive?\n",
    "\n",
    "**Not really!** ($ρ_{X,Z}$ will be positive if $ρ_{X,Y}$ and $ρ_{Y,Z}$ are very close to 1)\n",
    "\n",
    "Mathematically speaking:\n",
    "\n",
    "$ρ_{X,Y}$ = $ρ_{Y,Z} * ρ_{Z,X} - \\sqrt{ (1 - ρ_{Y,Z}^2 ) *  (1 - ρ_{Z,X}^2 )}$\n",
    "\n",
    "### Sensitivity to outliers\n",
    "\n",
    "Is Peason's Correlation Coefficient sensitive to outliers?\n",
    "\n",
    "Hint: Remember the formula!\n",
    "\n",
    "![](./images/correlation3.png)\n",
    "\n",
    "* Means themselves are sensitive to outliers\n",
    "* The correlation itself will be sensitive to outliers as well\n",
    "\n",
    "In the following charts, the correlation is 0.81 in all four cases\n",
    "\n",
    "![](./images/correlation10.png)\n",
    "\n",
    "### Correlation doesn't capture non-linear relationships\n",
    "\n",
    "![](./images/correlation2.png)\n",
    "\n",
    "* Several sets of (x, y) points, with the Pearson correlation coefficient of x and y for each set.\n",
    "* Note that the correlation reflects the noisiness and direction of a linear relationship (top row), but not the slope of that relationship (middle), nor many aspects of nonlinear relationships (bottom).\n",
    "* The figure in the center has a slope of 0 but in that case the correlation coefficient is undefined because the variance of Y is zero.\n",
    "\n",
    "\n",
    "### Does correlation imply causation?\n",
    "\n",
    "**No**\n",
    "\n",
    "### Does causation imply correlation?\n",
    "\n",
    "**No**\n",
    "\n",
    "Because causation can also lead to a non-linear relationship!\n",
    "\n",
    "### Misleading Correlations\n",
    "\n",
    "Even when Y axes measure the same category, changing the scales can alter the lines to suggest a correlation. These Y axes for RetailCo’s monthly revenue differ in range and proportional increase.\n",
    "\n",
    "![](./images/correlation7.png)\n",
    "\n",
    "Eliminating the second axis shows how skewed this chart is.\n",
    "\n",
    "![](./images/correlation8.png)\n",
    "\n",
    "### Spurious Correlations\n",
    "\n",
    "![](./images/correlation4.png)\n",
    "\n",
    "![](./images/correlation5.png)\n",
    "\n",
    "![](./images/correlation6.png)"
   ]
  },
  {
   "cell_type": "markdown",
   "metadata": {},
   "source": [
    "## sklearn for univariate feature selection"
   ]
  },
  {
   "cell_type": "markdown",
   "metadata": {},
   "source": [
    "scikit-learn has a wide variety of functions for eliminating features based information-criteria. For performing univariate feature selection, we need to specify two parameters:\n",
    "\n",
    "1. Selection criteria\n",
    "    - **SelectKBest**: removes all but the k highest scoring features\n",
    "    - **SelectPercentile**: removes all but a user-specified highest scoring percentage of features\n",
    "    - using common univariate statistical tests for each feature:\n",
    "        * false positive rate **SelectFpr**\n",
    "        * false discovery rate **SelectFdr**\n",
    "        * family wise error **SelectFwe**\n",
    "    - *GenericUnivariateSelect* allows to perform univariate feature selection with a configurable strategy. This allows to select the best univariate selection strategy with hyper-parameter search estimator\n",
    "2. The metric to be used for selection\n",
    "    - Regression\n",
    "        * f_regression\n",
    "        * mutual_info_regression\n",
    "        * The methods based on F-test estimate the degree of linear dependency between two random variables. On the other hand, mutual information methods can capture any kind of statistical dependency, but being nonparametric, they require more samples for accurate estimation.\n",
    "    - Classification\n",
    "        * chi2\n",
    "        * f_classif\n",
    "        * mutual_info_classif\n",
    "3. Note: Beware not to use a regression scoring function with a classification problem, you will get useless results."
   ]
  },
  {
   "cell_type": "markdown",
   "metadata": {},
   "source": [
    "## Examples"
   ]
  },
  {
   "cell_type": "markdown",
   "metadata": {},
   "source": [
    "### `SelectKBest` and `f_regression` in action"
   ]
  },
  {
   "cell_type": "markdown",
   "metadata": {},
   "source": [
    "* `f_regression` provides a quick linear model for testing the effect of a single regressor.\n",
    "* `SelectKBest` selects the `K` best features using the provided criteria/metric (`f_regression` in this case)\n",
    "* In the following example, we'll use `SelectKBest` and `f_regression` to eliminate all but two variables in the `iris` dataset.\n",
    "* We'll also see how to extract the p-values and the F-scores from the fitted model. As we observed earlier, univariate methods by themselves may not be the best criteria for feature selection. However, the ranking obtained from these scores may be combined with other criteria (other rankings obtained from univariate or multivariate methods, for example) to perform feature selection."
   ]
  },
  {
   "cell_type": "code",
   "execution_count": 27,
   "metadata": {
    "collapsed": false
   },
   "outputs": [
    {
     "name": "stdout",
     "output_type": "stream",
     "text": [
      "Before\n",
      "array([[ 4.9,  3. ,  1.4,  0.2],\n",
      "       [ 4.7,  3.2,  1.3,  0.2],\n",
      "       [ 4.6,  3.1,  1.5,  0.2],\n",
      "       [ 5. ,  3.6,  1.4,  0.2]])\n",
      "\n",
      "After\n",
      "array([[ 1.4,  0.2],\n",
      "       [ 1.3,  0.2],\n",
      "       [ 1.5,  0.2],\n",
      "       [ 1.4,  0.2]])\n"
     ]
    }
   ],
   "source": [
    "from pprint import pprint\n",
    "from sklearn.datasets import load_iris\n",
    "from sklearn.feature_selection import SelectKBest\n",
    "from sklearn.feature_selection import f_regression\n",
    "\n",
    "iris = load_iris()\n",
    "X, y = iris.data, iris.target\n",
    "print('Before'); pprint(X[1:5, :])\n",
    "\n",
    "X_new = SelectKBest(f_regression, k=2).fit_transform(X, y)\n",
    "print('\\nAfter'); pprint(X_new[1:5, :])"
   ]
  },
  {
   "cell_type": "markdown",
   "metadata": {},
   "source": [
    "When we look at `X_new`, the final output of the above sequence of commands, we see that it doesn't contain any scores/information other than what we saw."
   ]
  },
  {
   "cell_type": "code",
   "execution_count": 28,
   "metadata": {
    "collapsed": false
   },
   "outputs": [
    {
     "data": {
      "text/plain": [
       "numpy.ndarray"
      ]
     },
     "execution_count": 28,
     "metadata": {},
     "output_type": "execute_result"
    }
   ],
   "source": [
    "type(X_new)"
   ]
  },
  {
   "cell_type": "markdown",
   "metadata": {},
   "source": [
    "We need to store the estimator in an intermediate variable. When we call the `fit_transform()` method on this estimator, the model is fitted to the data (the F-scores and p-values are computed) and the results are stored in the estimator (which are subsequently used for the transformations)."
   ]
  },
  {
   "cell_type": "code",
   "execution_count": 29,
   "metadata": {
    "collapsed": false
   },
   "outputs": [],
   "source": [
    "est = SelectKBest(f_regression, k=2)\n",
    "X_new = est.fit_transform(X, y)"
   ]
  },
  {
   "cell_type": "code",
   "execution_count": 30,
   "metadata": {
    "collapsed": false
   },
   "outputs": [
    {
     "data": {
      "text/plain": [
       "array([  2.89047835e-32,   9.15998497e-08,   4.15547758e-76,\n",
       "         4.77500237e-81])"
      ]
     },
     "execution_count": 30,
     "metadata": {},
     "output_type": "execute_result"
    }
   ],
   "source": [
    "# p-values\n",
    "est.pvalues_"
   ]
  },
  {
   "cell_type": "code",
   "execution_count": 31,
   "metadata": {
    "collapsed": false
   },
   "outputs": [
    {
     "data": {
      "text/plain": [
       "array([  233.8389959 ,    31.59750825,  1342.15918918,  1589.55920433])"
      ]
     },
     "execution_count": 31,
     "metadata": {},
     "output_type": "execute_result"
    }
   ],
   "source": [
    "# F-scores\n",
    "est.scores_"
   ]
  },
  {
   "cell_type": "markdown",
   "metadata": {},
   "source": [
    "### Comparison of F-test and mutual information\n",
    "\n",
    "* This example illustrates the differences between univariate F-test statistics and mutual information.\n",
    "* We consider 3 features $x_1$, $x_2$, $x_3$ distributed uniformly over $[0, 1]$, the target depends on them as follows:\n",
    "    - $y = x_1 + sin(6 * pi * x_2) + 0.1 * N(0, 1)$\n",
    "    - the third features is irrelevant"
   ]
  },
  {
   "cell_type": "code",
   "execution_count": 3,
   "metadata": {
    "collapsed": false
   },
   "outputs": [],
   "source": [
    "import numpy as np\n",
    "import matplotlib.pyplot as plt\n",
    "from sklearn.feature_selection import f_regression, mutual_info_regression\n",
    "\n",
    "np.random.seed(0)\n",
    "X = np.random.rand(1000, 3)\n",
    "y = X[:, 0] + np.sin(6 * np.pi * X[:, 1]) + 0.1 * np.random.randn(1000)\n",
    "\n",
    "f_test, _ = f_regression(X, y)\n",
    "f_test /= np.max(f_test)\n",
    "\n",
    "mi = mutual_info_regression(X, y)\n",
    "mi /= np.max(mi)"
   ]
  },
  {
   "cell_type": "markdown",
   "metadata": {},
   "source": [
    "* The code below plots the dependency of $y$ against individual $x_i$ and normalized values of univariate F-tests statistics and mutual information."
   ]
  },
  {
   "cell_type": "code",
   "execution_count": 2,
   "metadata": {
    "collapsed": false
   },
   "outputs": [
    {
     "data": {
      "image/png": "[encoded data removed]",
      "text/plain": [
       "<matplotlib.figure.Figure at 0x114247828>"
      ]
     },
     "metadata": {},
     "output_type": "display_data"
    }
   ],
   "source": [
    "plt.figure(figsize=(15, 5))\n",
    "for i in range(3):\n",
    "    plt.subplot(1, 3, i + 1)\n",
    "    plt.scatter(X[:, i], y)\n",
    "    plt.xlabel(\"$x_{}$\".format(i + 1), fontsize=14)\n",
    "    if i == 0:\n",
    "        plt.ylabel(\"$y$\", fontsize=14)\n",
    "    plt.title(\"F-test={:.2f}, MI={:.2f}\".format(f_test[i], mi[i]),\n",
    "              fontsize=16)\n",
    "plt.show()"
   ]
  },
  {
   "cell_type": "markdown",
   "metadata": {},
   "source": [
    "* As F-test captures only linear dependency, it rates $x_1$ as the most discriminative feature.\n",
    "* `mutual information` can capture any kind of dependency between variables and it rates $x_2$ as the most discriminative feature, which probably agrees better with our intuitive perception for this example.\n",
    "* Both methods correctly mark $x_3$ as irrelevant."
   ]
  },
  {
   "cell_type": "markdown",
   "metadata": {},
   "source": [
    "# Multivariate Feature Elimination"
   ]
  },
  {
   "cell_type": "markdown",
   "metadata": {},
   "source": [
    "## Recursive Feature Elimination (RFE)"
   ]
  },
  {
   "cell_type": "markdown",
   "metadata": {},
   "source": [
    "* The Recursive Feature Elimination (RFE) method works by recursively removing attributes and building a model on those attributes that remain.\n",
    "* It uses an external estimator that assigns weights to features (for example, the coefficients of a linear model) to identify which attributes (and combination of attributes) contribute the most to predicting the target attribute.\n",
    "* For RFE with cross-validation, see [RFECV](http://scikit-learn.org/stable/modules/generated/sklearn.feature_selection.RFECV.html#sklearn.feature_selection.RFECV) (not covered here)."
   ]
  },
  {
   "cell_type": "code",
   "execution_count": 1,
   "metadata": {
    "collapsed": false
   },
   "outputs": [
    {
     "name": "stdout",
     "output_type": "stream",
     "text": [
      "[False  True  True  True]\n",
      "[2 1 1 1]\n"
     ]
    }
   ],
   "source": [
    "# Recursive Feature Elimination\n",
    "from sklearn import datasets\n",
    "from sklearn.feature_selection import RFE\n",
    "from sklearn.linear_model import LogisticRegression\n",
    "\n",
    "# load the iris datasets\n",
    "dataset = datasets.load_iris()\n",
    "\n",
    "# create a base classifier used to evaluate a subset of attributes\n",
    "model = LogisticRegression()\n",
    "\n",
    "# create the RFE model and select 3 attributes\n",
    "rfe = RFE(model, 3)\n",
    "rfe = rfe.fit(dataset.data, dataset.target)\n",
    "\n",
    "# summarize the selection of the attributes\n",
    "print(rfe.support_)\n",
    "\n",
    "print(rfe.ranking_)"
   ]
  },
  {
   "cell_type": "markdown",
   "metadata": {},
   "source": [
    "## Model based ranking"
   ]
  },
  {
   "cell_type": "markdown",
   "metadata": {},
   "source": [
    "Methods that use ensembles of decision trees (like Random Forest and Extra Trees) can also compute the relative importance of each attribute. These importance values can be used to inform a feature selection process. "
   ]
  },
  {
   "cell_type": "code",
   "execution_count": 6,
   "metadata": {
    "collapsed": false
   },
   "outputs": [
    {
     "name": "stdout",
     "output_type": "stream",
     "text": [
      "[ 0.04997232  0.07085008  0.56178933  0.31738828]\n"
     ]
    }
   ],
   "source": [
    "# Feature Importance\n",
    "from sklearn.datasets import load_iris\n",
    "from sklearn import metrics\n",
    "from sklearn.ensemble import ExtraTreesClassifier\n",
    "\n",
    "# load the iris datasets\n",
    "iris = load_iris()\n",
    "X, y = iris.data, iris.target\n",
    "\n",
    "# fit an Extra Trees model to the data\n",
    "clf = ExtraTreesClassifier()\n",
    "clf.fit(X, y)\n",
    "\n",
    "# display the relative importance of each attribute\n",
    "print(clf.feature_importances_)"
   ]
  },
  {
   "cell_type": "markdown",
   "metadata": {},
   "source": [
    "We can gather such feature importance scores from multiple models and ensemble them. Otherwise we can use the scores from the same model to prune some features and refit the model using the rest of the features using `SelectFromModel`."
   ]
  },
  {
   "cell_type": "code",
   "execution_count": 7,
   "metadata": {
    "collapsed": false
   },
   "outputs": [
    {
     "name": "stdout",
     "output_type": "stream",
     "text": [
      "Before\n",
      "(150, 4)\n",
      "\n",
      "Feature Importance\n",
      "array([ 0.08614172,  0.06616756,  0.38664669,  0.46104403])\n",
      "\n",
      "After\n",
      "(150, 2)\n"
     ]
    }
   ],
   "source": [
    "from sklearn.feature_selection import SelectFromModel\n",
    "from pprint import pprint\n",
    "\n",
    "print('Before'); pprint(X.shape)\n",
    "\n",
    "clf = ExtraTreesClassifier()\n",
    "clf.fit(X, y)\n",
    "\n",
    "print('\\nFeature Importance'); pprint(clf.feature_importances_)\n",
    "\n",
    "model = SelectFromModel(clf, prefit=True)\n",
    "X_new = model.transform(X)\n",
    "print('\\nAfter'); pprint(X_new.shape)"
   ]
  },
  {
   "cell_type": "markdown",
   "metadata": {},
   "source": [
    "**Quiz**: Why were two features eliminated?"
   ]
  },
  {
   "cell_type": "markdown",
   "metadata": {},
   "source": [
    "### Example with Random Forest"
   ]
  },
  {
   "cell_type": "markdown",
   "metadata": {},
   "source": [
    "This examples shows the use of forests of trees to evaluate the importance of features on an artificial classification task. The red bars are the feature importances of the forest, along with their inter-trees variability."
   ]
  },
  {
   "cell_type": "code",
   "execution_count": 1,
   "metadata": {
    "collapsed": false
   },
   "outputs": [
    {
     "name": "stdout",
     "output_type": "stream",
     "text": [
      "Feature ranking:\n",
      "1. feature 1 (0.295902)\n",
      "2. feature 2 (0.208351)\n",
      "3. feature 0 (0.177632)\n",
      "4. feature 3 (0.047121)\n",
      "5. feature 6 (0.046303)\n",
      "6. feature 8 (0.046013)\n",
      "7. feature 7 (0.045575)\n",
      "8. feature 4 (0.044614)\n",
      "9. feature 9 (0.044577)\n",
      "10. feature 5 (0.043912)\n"
     ]
    }
   ],
   "source": [
    "import numpy as np\n",
    "import matplotlib.pyplot as plt\n",
    "\n",
    "from sklearn.datasets import make_classification\n",
    "from sklearn.ensemble import ExtraTreesClassifier\n",
    "\n",
    "# Build a classification task using 3 informative features\n",
    "X, y = make_classification(n_samples=1000,\n",
    "                           n_features=10,\n",
    "                           n_informative=3,\n",
    "                           n_redundant=0,\n",
    "                           n_repeated=0,\n",
    "                           n_classes=2,\n",
    "                           random_state=0,\n",
    "                           shuffle=False)\n",
    "\n",
    "# Build a forest and compute the feature importances\n",
    "forest = ExtraTreesClassifier(n_estimators=250,\n",
    "                              random_state=0)\n",
    "\n",
    "forest.fit(X, y)\n",
    "importances = forest.feature_importances_\n",
    "std = np.std([tree.feature_importances_ for tree in forest.estimators_],\n",
    "             axis=0)\n",
    "indices = np.argsort(importances)[::-1]\n",
    "\n",
    "# Print the feature ranking\n",
    "print(\"Feature ranking:\")\n",
    "\n",
    "for f in range(X.shape[1]):\n",
    "    print(\"%d. feature %d (%f)\" % (f + 1, indices[f], importances[indices[f]]))"
   ]
  },
  {
   "cell_type": "code",
   "execution_count": 2,
   "metadata": {
    "collapsed": false
   },
   "outputs": [
    {
     "data": {
      "image/png": "[encoded data removed]",
      "text/plain": [
       "<matplotlib.figure.Figure at 0x10e2df278>"
      ]
     },
     "metadata": {},
     "output_type": "display_data"
    }
   ],
   "source": [
    "# Plot the feature importances of the forest\n",
    "plt.figure()\n",
    "plt.title(\"Feature importances\")\n",
    "plt.bar(range(X.shape[1]), importances[indices],\n",
    "       color=\"r\", yerr=std[indices], align=\"center\")\n",
    "plt.xticks(range(X.shape[1]), indices)\n",
    "plt.xlim([-1, X.shape[1]])\n",
    "plt.show()"
   ]
  },
  {
   "cell_type": "markdown",
   "metadata": {},
   "source": [
    "The plot suggests that 3 features are informative, while the remaining are not."
   ]
  }
 ],
 "metadata": {
  "anaconda-cloud": {},
  "kernelspec": {
   "display_name": "Python [conda env:mlredux]",
   "language": "python",
   "name": "conda-env-mlredux-py"
  },
  "language_info": {
   "codemirror_mode": {
    "name": "ipython",
    "version": 3
   },
   "file_extension": ".py",
   "mimetype": "text/x-python",
   "name": "python",
   "nbconvert_exporter": "python",
   "pygments_lexer": "ipython3",
   "version": "3.5.2"
  }
 },
 "nbformat": 4,
 "nbformat_minor": 0
}
